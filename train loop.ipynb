{
 "cells": [
  {
   "cell_type": "code",
   "execution_count": null,
   "id": "09bba331",
   "metadata": {},
   "outputs": [],
   "source": [
    "for epoch in range(n_epochs):\n",
    "    total_loss = 0.0  \n",
    "    \n",
    "    with tqdm(train_loader, desc=f'Epoch {epoch + 1}/{n_epochs}', unit='batch') as t:\n",
    "        for data in t:\n",
    "            images, _ = data\n",
    "            images = images.to(device)\n",
    "            \n",
    "            noise = torch.randn_like(images) * noise_factor\n",
    "            noisy_images = images + noise\n",
    "            \n",
    "            \n",
    "            \n",
    "            optimizer.zero_grad()\n",
    "            \n",
    "            outputs = model(noisy_images)\n",
    "            \n",
    "            \n",
    "           \n",
    "            loss = criterion(outputs, images)\n",
    "            loss.backward()\n",
    "            optimizer.step()\n",
    "            total_loss += loss.item()\n",
    "            \n",
    "            t.set_postfix(loss=f'{loss.item():.4f}')\n",
    "            average_loss = total_loss / len(train_loader)\n",
    "    print(f\"Epoch [{epoch + 1}/{n_epochs}], Average Loss: {average_loss:.4f}\")\n",
    "\n",
    "print(\"Training complete\")\n",
    "\n"
   ]
  }
 ],
 "metadata": {
  "kernelspec": {
   "display_name": "Python 3 (ipykernel)",
   "language": "python",
   "name": "python3"
  },
  "language_info": {
   "codemirror_mode": {
    "name": "ipython",
    "version": 3
   },
   "file_extension": ".py",
   "mimetype": "text/x-python",
   "name": "python",
   "nbconvert_exporter": "python",
   "pygments_lexer": "ipython3",
   "version": "3.11.3"
  }
 },
 "nbformat": 4,
 "nbformat_minor": 5
}
