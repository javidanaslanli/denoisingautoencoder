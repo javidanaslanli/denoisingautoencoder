{
 "cells": [
  {
   "cell_type": "code",
   "execution_count": null,
   "id": "1f4dcc77",
   "metadata": {},
   "outputs": [],
   "source": [
    "inputs, labels = next(iter(test_loader))\n",
    "inputs = inputs.to(device)\n",
    "​\n",
    "noisy_imgs = inputs + 0.7 * torch.randn(*inputs.shape).to(device)  \n",
    "noisy_imgs = torch.clamp(noisy_imgs, 0., 1.) \n",
    "​\n",
    "output = model(noisy_imgs)\n",
    "​\n",
    "noisy_imgs.cpu()\n",
    "noisy_imgs = noisy_imgs.cpu().numpy()\n",
    "​\n",
    "output = output.view(32, 3, 150, 150)\n",
    "​\n",
    "output = output.detach().cpu().numpy()\n",
    "​\n",
    "​\n",
    "fig, axes = plt.subplots(nrows=2, ncols=10, sharex=True, sharey=True, figsize=(25,4))\n",
    "​\n",
    "​\n",
    "for noisy_imgs, row in zip([noisy_imgs, output], axes):\n",
    "    for img, ax in zip(noisy_imgs, row):\n",
    "        img = np.transpose(img, (1, 2, 0))  \n",
    "        ax.imshow(img, cmap='gray')\n",
    "        ax.get_xaxis().set_visible(False)\n",
    "        ax.get_yaxis().set_visible(False)"
   ]
  }
 ],
 "metadata": {
  "kernelspec": {
   "display_name": "Python 3 (ipykernel)",
   "language": "python",
   "name": "python3"
  },
  "language_info": {
   "codemirror_mode": {
    "name": "ipython",
    "version": 3
   },
   "file_extension": ".py",
   "mimetype": "text/x-python",
   "name": "python",
   "nbconvert_exporter": "python",
   "pygments_lexer": "ipython3",
   "version": "3.11.3"
  }
 },
 "nbformat": 4,
 "nbformat_minor": 5
}
